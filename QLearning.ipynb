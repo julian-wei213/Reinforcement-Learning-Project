{
 "cells": [
  {
   "cell_type": "code",
   "execution_count": 74,
   "metadata": {},
   "outputs": [
    {
     "name": "stdout",
     "output_type": "stream",
     "text": [
      "Requirement already satisfied: flappy-bird-gym in c:\\users\\julian\\anaconda3\\lib\\site-packages (0.3.0)\n",
      "Requirement already satisfied: gym~=0.18.0 in c:\\users\\julian\\anaconda3\\lib\\site-packages (from flappy-bird-gym) (0.18.3)\n",
      "Requirement already satisfied: numpy~=1.19.5 in c:\\users\\julian\\anaconda3\\lib\\site-packages (from flappy-bird-gym) (1.19.5)\n",
      "Requirement already satisfied: pygame~=2.0.1 in c:\\users\\julian\\anaconda3\\lib\\site-packages (from flappy-bird-gym) (2.0.3)\n",
      "Requirement already satisfied: scipy in c:\\users\\julian\\anaconda3\\lib\\site-packages (from gym~=0.18.0->flappy-bird-gym) (1.5.4)\n",
      "Requirement already satisfied: pyglet<=1.5.15,>=1.4.0 in c:\\users\\julian\\anaconda3\\lib\\site-packages (from gym~=0.18.0->flappy-bird-gym) (1.5.15)\n",
      "Requirement already satisfied: Pillow<=8.2.0 in c:\\users\\julian\\anaconda3\\lib\\site-packages (from gym~=0.18.0->flappy-bird-gym) (8.2.0)\n",
      "Requirement already satisfied: cloudpickle<1.7.0,>=1.2.0 in c:\\users\\julian\\anaconda3\\lib\\site-packages (from gym~=0.18.0->flappy-bird-gym) (1.6.0)\n",
      "Note: you may need to restart the kernel to use updated packages.\n"
     ]
    },
    {
     "name": "stderr",
     "output_type": "stream",
     "text": [
      "WARNING: Ignoring invalid distribution -umpy (c:\\users\\julian\\anaconda3\\lib\\site-packages)\n",
      "WARNING: Ignoring invalid distribution -umpy (c:\\users\\julian\\anaconda3\\lib\\site-packages)\n",
      "DEPRECATION: pyodbc 4.0.0-unsupported has a non-standard version number. pip 24.1 will enforce this behaviour change. A possible replacement is to upgrade to a newer version of pyodbc or contact the author to suggest that they release a version with a conforming version number. Discussion can be found at https://github.com/pypa/pip/issues/12063\n"
     ]
    }
   ],
   "source": [
    "%pip install flappy-bird-gym\n",
    "# I am using python version 3.8.8, should be good with python version 3.7, 3.8, 3.9"
   ]
  },
  {
   "cell_type": "code",
   "execution_count": 75,
   "metadata": {},
   "outputs": [],
   "source": [
    "import time\n",
    "import flappy_bird_gym\n",
    "import numpy as np\n",
    "import matplotlib.pyplot as plt"
   ]
  },
  {
   "cell_type": "code",
   "execution_count": 76,
   "metadata": {},
   "outputs": [],
   "source": [
    "env = flappy_bird_gym.make(\"FlappyBird-v0\")"
   ]
  },
  {
   "cell_type": "code",
   "execution_count": 77,
   "metadata": {},
   "outputs": [
    {
     "name": "stdout",
     "output_type": "stream",
     "text": [
      "Number of actions possible:  2\n",
      "Observation space:  Box(-2.0, 2.0, (2,), float32)\n",
      "Highest value:  [2. 1.]\n",
      "Lowest value:  [-2. -1.]\n"
     ]
    }
   ],
   "source": [
    "# print action space, observation space\n",
    "\n",
    "print(\"Number of actions possible: \", env.action_space.n)\n",
    "print(\"Observation space: \", env.observation_space)\n",
    "print(\"Highest value: \", env.observation_space.high)\n",
    "print(\"Lowest value: \", env.observation_space.low)"
   ]
  },
  {
   "cell_type": "code",
   "execution_count": 78,
   "metadata": {},
   "outputs": [],
   "source": [
    "# Setup learing factors\n",
    "epsilon = 0.01\n",
    "episodes = 5000\n",
    "discount = 0.99\n",
    "alpha = 0.01\n",
    "\n",
    "# Q Table\n",
    "Q_TABLE = np.zeros((171, 2))\n",
    "\n",
    "# Plotting\n",
    "ep_rewards = []\n",
    "ep_rewards_table = {'ep': [], 'avg': [], 'min': [], 'max': []}\n",
    "\n",
    "ep_display = 500"
   ]
  },
  {
   "cell_type": "code",
   "execution_count": 79,
   "metadata": {},
   "outputs": [
    {
     "name": "stdout",
     "output_type": "stream",
     "text": [
      "Episode:0 avg:-535.0 min:-535 max:-535\n",
      "Episode:500 avg:1553.78 min:-535 max:6320\n",
      "Episode:1000 avg:1777.91 min:-250 max:7400\n",
      "Episode:1500 avg:1812.59 min:-250 max:6575\n",
      "Episode:2000 avg:1773.86 min:-250 max:8255\n",
      "Episode:2500 avg:1660.61 min:-265 max:7685\n",
      "Episode:3000 avg:1792.76 min:-250 max:7685\n",
      "Episode:3500 avg:1618.07 min:-250 max:7370\n",
      "Episode:4000 avg:1749.35 min:-250 max:7685\n",
      "Episode:4500 avg:1781.75 min:-535 max:8480\n"
     ]
    }
   ],
   "source": [
    "for episode in range(episodes):\n",
    "    # Reset environment for new episode\n",
    "    obs = env.reset()\n",
    "    done = False\n",
    "\n",
    "    # Get Initial State\n",
    "    obs = obs * 10\n",
    "    obs = np.round(obs).astype(int)\n",
    "    obs[0] += 2\n",
    "    obs[1] += 3\n",
    "\n",
    "    prev_action = 0\n",
    "    state = obs[0] * obs[1]\n",
    "    episode_reward = 0\n",
    "\n",
    "    # Number of steps per episode\n",
    "    while not done:\n",
    "\n",
    "        # Step\n",
    "        next, reward, done, info = env.step(prev_action)\n",
    "\n",
    "        # Get next state\n",
    "        next = next * 10\n",
    "        next = np.round(next).astype(int)\n",
    "        next[0] += 2\n",
    "        next[1] += 3\n",
    "\n",
    "        next_state = next[0] * next[1]\n",
    "\n",
    "        # Epsilon greedy\n",
    "        if np.random.rand() > epsilon:\n",
    "            next_action = np.argmax(Q_TABLE[next_state])\n",
    "        else:\n",
    "            next_action = env.action_space.sample()\n",
    "\n",
    "        # Update Q(s,a)\n",
    "        max_q_next = np.max(Q_TABLE[next_state])\n",
    "        Q_TABLE[state][prev_action] += alpha * (reward + (discount * max_q_next) - Q_TABLE[state][prev_action])\n",
    "\n",
    "        # if you want to see the rendering uncomment the stuff below\n",
    "        #\n",
    "        # if episode > 0 and episode % ep_display == 0:\n",
    "        #     env.render()\n",
    "        #     time.sleep(1 / 60)  # FPS\n",
    "\n",
    "        # Update state for\n",
    "        prev_action = next_action\n",
    "        state = next_state\n",
    "        episode_reward += reward\n",
    "\n",
    "        if done:\n",
    "            break\n",
    "    \n",
    "    ep_rewards.append(episode_reward)\n",
    "\n",
    "    if not episode % ep_display:    \n",
    "        avg_reward = sum(ep_rewards[-ep_display:])/len(ep_rewards[-ep_display:])\n",
    "        ep_rewards_table['ep'].append(episode)\n",
    "        ep_rewards_table['avg'].append(avg_reward)\n",
    "        ep_rewards_table['min'].append(min(ep_rewards[-ep_display:]))\n",
    "        ep_rewards_table['max'].append(max(ep_rewards[-ep_display:]))\n",
    "\t\t\n",
    "        print(f\"Episode:{episode} avg:{avg_reward} min:{min(ep_rewards[-ep_display:])} max:{max(ep_rewards[-ep_display:])}\")\n",
    "\n",
    "env.close()"
   ]
  },
  {
   "cell_type": "code",
   "execution_count": 80,
   "metadata": {},
   "outputs": [
    {
     "data": {
      "image/png": "[encoded data removed]",
      "text/plain": [
       "<Figure size 432x288 with 1 Axes>"
      ]
     },
     "metadata": {
      "needs_background": "light"
     },
     "output_type": "display_data"
    }
   ],
   "source": [
    "plt.plot(ep_rewards_table['ep'], ep_rewards_table['avg'], label=\"avg\")\n",
    "plt.plot(ep_rewards_table['ep'], ep_rewards_table['min'], label=\"min\")\n",
    "plt.plot(ep_rewards_table['ep'], ep_rewards_table['max'], label=\"max\")\n",
    "plt.legend(loc=4) #bottom right\n",
    "plt.title('Q-Learning Flappy Bird')\n",
    "plt.ylabel('Average reward/Episode')\n",
    "plt.xlabel('Episodes')\n",
    "plt.show()"
   ]
  }
 ],
 "metadata": {
  "kernelspec": {
   "display_name": "base",
   "language": "python",
   "name": "python3"
  },
  "language_info": {
   "codemirror_mode": {
    "name": "ipython",
    "version": 3
   },
   "file_extension": ".py",
   "mimetype": "text/x-python",
   "name": "python",
   "nbconvert_exporter": "python",
   "pygments_lexer": "ipython3",
   "version": "3.8.8"
  }
 },
 "nbformat": 4,
 "nbformat_minor": 2
}
