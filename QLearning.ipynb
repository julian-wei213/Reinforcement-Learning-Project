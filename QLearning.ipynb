{
 "cells": [
  {
   "cell_type": "code",
   "execution_count": 51,
   "metadata": {},
   "outputs": [
    {
     "name": "stdout",
     "output_type": "stream",
     "text": [
      "Requirement already satisfied: flappy-bird-gym in c:\\users\\julia\\appdata\\local\\programs\\python\\python38\\lib\\site-packages (0.3.0)\n",
      "Requirement already satisfied: pygame~=2.0.1 in c:\\users\\julia\\appdata\\local\\programs\\python\\python38\\lib\\site-packages (from flappy-bird-gym) (2.0.3)\n",
      "Requirement already satisfied: gym~=0.18.0 in c:\\users\\julia\\appdata\\local\\programs\\python\\python38\\lib\\site-packages (from flappy-bird-gym) (0.18.3)\n",
      "Collecting numpy~=1.19.5\n",
      "  Using cached numpy-1.19.5-cp38-cp38-win_amd64.whl (13.3 MB)\n",
      "Requirement already satisfied: scipy in c:\\users\\julia\\appdata\\local\\programs\\python\\python38\\lib\\site-packages (from gym~=0.18.0->flappy-bird-gym) (1.10.1)\n",
      "Requirement already satisfied: pyglet<=1.5.15,>=1.4.0 in c:\\users\\julia\\appdata\\local\\programs\\python\\python38\\lib\\site-packages (from gym~=0.18.0->flappy-bird-gym) (1.5.15)\n",
      "Requirement already satisfied: Pillow<=8.2.0 in c:\\users\\julia\\appdata\\local\\programs\\python\\python38\\lib\\site-packages (from gym~=0.18.0->flappy-bird-gym) (8.2.0)\n",
      "Requirement already satisfied: cloudpickle<1.7.0,>=1.2.0 in c:\\users\\julia\\appdata\\local\\programs\\python\\python38\\lib\\site-packages (from gym~=0.18.0->flappy-bird-gym) (1.6.0)\n",
      "Installing collected packages: numpy\n",
      "  Attempting uninstall: numpy\n",
      "    Found existing installation: numpy 1.24.4\n",
      "    Uninstalling numpy-1.24.4:\n",
      "      Successfully uninstalled numpy-1.24.4\n",
      "Successfully installed numpy-1.19.5\n",
      "Note: you may need to restart the kernel to use updated packages.\n"
     ]
    },
    {
     "name": "stderr",
     "output_type": "stream",
     "text": [
      "ERROR: After October 2020 you may experience errors when installing or updating packages. This is because pip will change the way that it resolves dependency conflicts.\n",
      "\n",
      "We recommend you use --use-feature=2020-resolver to test your packages with the new resolver before it becomes the default.\n",
      "\n",
      "matplotlib 3.7.5 requires numpy<2,>=1.20, but you'll have numpy 1.19.5 which is incompatible.\n",
      "WARNING: You are using pip version 20.2.3; however, version 24.0 is available.\n",
      "You should consider upgrading via the 'c:\\Users\\Julia\\AppData\\Local\\Programs\\Python\\Python38\\python.exe -m pip install --upgrade pip' command.\n"
     ]
    },
    {
     "name": "stdout",
     "output_type": "stream",
     "text": [
      "Requirement already satisfied: matplotlib in c:\\users\\julia\\appdata\\local\\programs\\python\\python38\\lib\\site-packages (3.7.5)\n",
      "Requirement already satisfied: importlib-resources>=3.2.0; python_version < \"3.10\" in c:\\users\\julia\\appdata\\local\\programs\\python\\python38\\lib\\site-packages (from matplotlib) (6.4.0)\n",
      "Requirement already satisfied: kiwisolver>=1.0.1 in c:\\users\\julia\\appdata\\local\\programs\\python\\python38\\lib\\site-packages (from matplotlib) (1.4.5)\n",
      "Requirement already satisfied: pyparsing>=2.3.1 in c:\\users\\julia\\appdata\\local\\programs\\python\\python38\\lib\\site-packages (from matplotlib) (3.1.2)\n",
      "Requirement already satisfied: packaging>=20.0 in c:\\users\\julia\\appdata\\roaming\\python\\python38\\site-packages (from matplotlib) (24.0)\n",
      "Requirement already satisfied: pillow>=6.2.0 in c:\\users\\julia\\appdata\\local\\programs\\python\\python38\\lib\\site-packages (from matplotlib) (8.2.0)\n",
      "Requirement already satisfied: contourpy>=1.0.1 in c:\\users\\julia\\appdata\\local\\programs\\python\\python38\\lib\\site-packages (from matplotlib) (1.1.1)\n",
      "Requirement already satisfied: fonttools>=4.22.0 in c:\\users\\julia\\appdata\\local\\programs\\python\\python38\\lib\\site-packages (from matplotlib) (4.51.0)\n",
      "Requirement already satisfied: cycler>=0.10 in c:\\users\\julia\\appdata\\local\\programs\\python\\python38\\lib\\site-packages (from matplotlib) (0.12.1)\n",
      "Requirement already satisfied: python-dateutil>=2.7 in c:\\users\\julia\\appdata\\roaming\\python\\python38\\site-packages (from matplotlib) (2.9.0.post0)\n",
      "Collecting numpy<2,>=1.20\n",
      "  Using cached numpy-1.24.4-cp38-cp38-win_amd64.whl (14.9 MB)\n",
      "Requirement already satisfied: zipp>=3.1.0; python_version < \"3.10\" in c:\\users\\julia\\appdata\\roaming\\python\\python38\\site-packages (from importlib-resources>=3.2.0; python_version < \"3.10\"->matplotlib) (3.18.1)\n",
      "Requirement already satisfied: six>=1.5 in c:\\users\\julia\\appdata\\roaming\\python\\python38\\site-packages (from python-dateutil>=2.7->matplotlib) (1.16.0)\n",
      "Installing collected packages: numpy\n",
      "  Attempting uninstall: numpy\n",
      "    Found existing installation: numpy 1.19.5\n",
      "    Uninstalling numpy-1.19.5:\n",
      "      Successfully uninstalled numpy-1.19.5\n",
      "Successfully installed numpy-1.24.4\n",
      "Note: you may need to restart the kernel to use updated packages.\n"
     ]
    },
    {
     "name": "stderr",
     "output_type": "stream",
     "text": [
      "ERROR: After October 2020 you may experience errors when installing or updating packages. This is because pip will change the way that it resolves dependency conflicts.\n",
      "\n",
      "We recommend you use --use-feature=2020-resolver to test your packages with the new resolver before it becomes the default.\n",
      "\n",
      "flappy-bird-gym 0.3.0 requires numpy~=1.19.5, but you'll have numpy 1.24.4 which is incompatible.\n",
      "WARNING: You are using pip version 20.2.3; however, version 24.0 is available.\n",
      "You should consider upgrading via the 'c:\\Users\\Julia\\AppData\\Local\\Programs\\Python\\Python38\\python.exe -m pip install --upgrade pip' command.\n"
     ]
    }
   ],
   "source": [
    "%pip install flappy-bird-gym\n",
    "%pip install matplotlib\n",
    "# I am using python version 3.8.8, should be good with python version 3.7, 3.8, 3.9"
   ]
  },
  {
   "cell_type": "code",
   "execution_count": 52,
   "metadata": {},
   "outputs": [],
   "source": [
    "import time\n",
    "import flappy_bird_gym\n",
    "import numpy as np\n",
    "import matplotlib.pyplot as plt"
   ]
  },
  {
   "cell_type": "code",
   "execution_count": 53,
   "metadata": {},
   "outputs": [],
   "source": [
    "env = flappy_bird_gym.make(\"FlappyBird-v0\")"
   ]
  },
  {
   "cell_type": "code",
   "execution_count": 54,
   "metadata": {},
   "outputs": [
    {
     "name": "stdout",
     "output_type": "stream",
     "text": [
      "Number of actions possible:  2\n",
      "Observation space:  Box(-2.0, 2.0, (2,), float32)\n",
      "Highest value:  [2. 1.]\n",
      "Lowest value:  [-2. -1.]\n"
     ]
    }
   ],
   "source": [
    "# print action space, observation space\n",
    "\n",
    "print(\"Number of actions possible: \", env.action_space.n)\n",
    "print(\"Observation space: \", env.observation_space)\n",
    "print(\"Highest value: \", env.observation_space.high)\n",
    "print(\"Lowest value: \", env.observation_space.low)"
   ]
  },
  {
   "cell_type": "code",
   "execution_count": 55,
   "metadata": {},
   "outputs": [],
   "source": [
    "# Setup learing factors\n",
    "epsilon = 0.01\n",
    "episodes = 5000\n",
    "discount = 0.99\n",
    "alpha = 0.01\n",
    "\n",
    "# Q Table\n",
    "Q_TABLE = np.zeros((171, 2))\n",
    "\n",
    "# Plotting\n",
    "ep_rewards = []\n",
    "ep_rewards_table = {'ep': [], 'dif': [], 'avg': [], 'min': [], 'max': []}\n",
    "\n",
    "ep_display = 500"
   ]
  },
  {
   "cell_type": "code",
   "execution_count": 56,
   "metadata": {},
   "outputs": [
    {
     "name": "stdout",
     "output_type": "stream",
     "text": [
      "Episode:0 avg:-535.0 min:-535 max:-535\n",
      "Episode:500 avg:840.2 min:-535 max:2450\n",
      "Episode:1000 avg:1126.76 min:-535 max:2435\n",
      "Episode:1500 avg:1093.28 min:-535 max:2135\n",
      "Episode:2000 avg:969.23 min:-535 max:2135\n",
      "Episode:2500 avg:960.29 min:-535 max:2135\n",
      "Episode:3000 avg:1014.17 min:-535 max:2135\n",
      "Episode:3500 avg:1014.14 min:-535 max:2435\n",
      "Episode:4000 avg:1038.5 min:-535 max:2135\n",
      "Episode:4500 avg:1034.81 min:-295 max:2405\n"
     ]
    }
   ],
   "source": [
    "for episode in range(episodes):\n",
    "    # Reset environment for new episode\n",
    "    obs = env.reset()\n",
    "    done = False\n",
    "    prev_rewards = -1000\n",
    "\n",
    "    # Get Initial State\n",
    "    obs = obs * 10\n",
    "    obs = np.round(obs).astype(int)\n",
    "    obs[0] += 2\n",
    "    obs[1] += 3\n",
    "\n",
    "    prev_action = 0\n",
    "    state = obs[0] * obs[1]\n",
    "    episode_reward = 0\n",
    "\n",
    "    # Number of steps per episode\n",
    "    while not done:\n",
    "\n",
    "        # Step\n",
    "        next, reward, done, info = env.step(prev_action)\n",
    "\n",
    "        # Get next state\n",
    "        next = next * 10\n",
    "        next = np.round(next).astype(int)\n",
    "        next[0] += 2\n",
    "        next[1] += 3\n",
    "\n",
    "        next_state = next[0] * next[1]\n",
    "\n",
    "        # Epsilon greedy\n",
    "        if np.random.rand() > epsilon:\n",
    "            next_action = np.argmax(Q_TABLE[next_state])\n",
    "        else:\n",
    "            next_action = env.action_space.sample()\n",
    "\n",
    "        # Update Q(s,a)\n",
    "        max_q_next = np.max(Q_TABLE[next_state])\n",
    "        Q_TABLE[state][prev_action] += alpha * (reward + (discount * max_q_next) - Q_TABLE[state][prev_action])\n",
    "\n",
    "        # if you want to see the rendering uncomment the stuff below\n",
    "        #\n",
    "        # if episode > 0 and episode % ep_display == 0:\n",
    "        #     env.render()\n",
    "        #     time.sleep(1 / 60)  # FPS\n",
    "\n",
    "        # Update state for\n",
    "        prev_action = next_action\n",
    "        state = next_state\n",
    "        episode_reward += reward\n",
    "\n",
    "        if done:\n",
    "            break\n",
    "    \n",
    "    ep_rewards.append(episode_reward)\n",
    "    \n",
    "    if not episode % ep_display:\n",
    "        avg_reward = sum(ep_rewards[-ep_display:])/len(ep_rewards[-ep_display:])\n",
    "        ep_rewards_table['ep'].append(episode)\n",
    "        ep_rewards_table['avg'].append(avg_reward)\n",
    "        ep_rewards_table['min'].append(min(ep_rewards[-ep_display:]))\n",
    "        ep_rewards_table['max'].append(max(ep_rewards[-ep_display:]))\n",
    "\t\t\n",
    "        print(f\"Episode:{episode} avg:{avg_reward} min:{min(ep_rewards[-ep_display:])} max:{max(ep_rewards[-ep_display:])}\")\n",
    "        prev_rewards = avg_reward\n",
    "    \n",
    "    \n",
    "\n",
    "env.close()"
   ]
  },
  {
   "cell_type": "code",
   "execution_count": 57,
   "metadata": {},
   "outputs": [
    {
     "data": {
      "image/png": "[encoded data removed]",
      "text/plain": [
       "<Figure size 640x480 with 1 Axes>"
      ]
     },
     "metadata": {},
     "output_type": "display_data"
    }
   ],
   "source": [
    "plt.plot(ep_rewards_table['ep'], ep_rewards_table['avg'], label=\"avg\")\n",
    "plt.plot(ep_rewards_table['dif'], ep_rewards_table['dif'], label=\"dif\")\n",
    "plt.plot(ep_rewards_table['ep'], ep_rewards_table['min'], label=\"min\")\n",
    "plt.plot(ep_rewards_table['ep'], ep_rewards_table['max'], label=\"max\")\n",
    "plt.legend(loc=4) #bottom right\n",
    "plt.title('Q-Learning Flappy Bird')\n",
    "plt.ylabel('Average reward/Episode')\n",
    "plt.xlabel('Episodes')\n",
    "plt.show()"
   ]
  }
 ],
 "metadata": {
  "kernelspec": {
   "display_name": "base",
   "language": "python",
   "name": "python3"
  },
  "language_info": {
   "codemirror_mode": {
    "name": "ipython",
    "version": 3
   },
   "file_extension": ".py",
   "mimetype": "text/x-python",
   "name": "python",
   "nbconvert_exporter": "python",
   "pygments_lexer": "ipython3",
   "version": "3.8.8"
  }
 },
 "nbformat": 4,
 "nbformat_minor": 2
}
